{
 "cells": [
  {
   "cell_type": "markdown",
   "metadata": {},
   "source": [
    "# Rename Raster Bands in Multiple GeoTIFF Files\n",
    "\n",
    "This notebook will help you rename the bands in multiple GeoTIFF files stored in your Google Drive.\n",
    "\n",
    "## Setup\n",
    "First, we need to mount Google Drive and install required packages."
   ]
  },
  {
   "cell_type": "code",
   "execution_count": null,
   "metadata": {},
   "source": [
    "# Mount Google Drive\n",
    "from google.colab import drive\n",
    "drive.mount('/content/drive')"
   ]
  },
  {
   "cell_type": "code",
   "execution_count": null,
   "metadata": {},
   "source": [
    "# Install required package\n",
    "!pip install rasterio"
   ]
  },
  {
   "cell_type": "markdown",
   "metadata": {},
   "source": [
    "## Main Script\n",
    "The following code will:\n",
    "1. Find all .tif files in the specified directory\n",
    "2. Read each file and its metadata\n",
    "3. Rename the bands to: 2013, 2015, 2017, 2019, 2021, 2023\n",
    "4. Save the modified files in the same location"
   ]
  },
  {
   "cell_type": "code",
   "execution_count": null,
   "metadata": {},
   "source": [
    "import os\n",
    "import rasterio\n",
    "import numpy as np\n",
    "from pathlib import Path\n",
    "\n",
    "# Set the input directory path\n",
    "input_dir = \"G:/My Drive/NDFI_Combined\"\n",
    "\n",
    "# New band names\n",
    "new_band_names = ['2013', '2015', '2017', '2019', '2021', '2023']\n",
    "\n",
    "# Get all .tif files in the directory\n",
    "tif_files = list(Path(input_dir).glob('*.tif'))\n",
    "\n",
    "for tif_path in tif_files:\n",
    "    # Open the original file\n",
    "    with rasterio.open(tif_path) as src:\n",
    "        # Get the metadata\n",
    "        meta = src.meta.copy()\n",
    "        \n",
    "        # Read all bands\n",
    "        data = src.read()\n",
    "        \n",
    "        # Create the output path (same as input path since we want to save in the same location)\n",
    "        output_path = tif_path\n",
    "        \n",
    "        # Create a new raster file with renamed bands\n",
    "        with rasterio.open(output_path, 'w', **meta) as dst:\n",
    "            # Write the data\n",
    "            dst.write(data)\n",
    "            \n",
    "            # Update band descriptions\n",
    "            for i, band_name in enumerate(new_band_names, start=1):\n",
    "                dst.set_band_description(i, band_name)\n",
    "                \n",
    "        print(f\"Processed: {tif_path.name}\")\n",
    "\n",
    "print(\"All files processed successfully!\")"
   ]
  },
  {
   "cell_type": "markdown",
   "metadata": {},
   "source": [
    "## Notes\n",
    "- Make sure you have write permissions in the directory\n",
    "- The script will overwrite the existing files with the new band names\n",
    "- If you want to keep the original files, modify the `output_path` to save to a different location\n",
    "- For very large files, you might want to process them one band at a time instead of loading all bands into memory"
   ]
  }
 ],
 "metadata": {
  "kernelspec": {
   "display_name": "Python 3",
   "language": "python",
   "name": "python3"
  },
  "language_info": {
   "codemirror_mode": {
    "name": "ipython",
    "version": 3
   },
   "file_extension": ".py",
   "mimetype": "text/x-python",
   "name": "python",
   "nbconvert_exporter": "python",
   "pygments_lexer": "ipython3",
   "version": "3.8.0"
  }
 },
 "nbformat": 4,
 "nbformat_minor": 4
}